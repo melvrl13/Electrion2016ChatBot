{
 "cells": [
  {
   "cell_type": "code",
   "execution_count": null,
   "metadata": {
    "collapsed": true
   },
   "outputs": [],
   "source": [
    "# Resources needed for getting tweets\n",
    "import tweepy\n",
    "import csv\n",
    "import re"
   ]
  },
  {
   "cell_type": "code",
   "execution_count": null,
   "metadata": {},
   "outputs": [],
   "source": [
    "# Twitter authentication\n",
    "consumer_key = \"aznBK3jqgnI5ienvFYu1oIlZF\"\n",
    "consumer_secret = \"bzpVZZ86SZ7LTI6KYGPmfgX378K1KCWFV45GRM8vhhO9HlDtt1\"\n",
    "access_key = \"766386667359969280-VpCO3bD5igomslsqHr1EN6NGDahRYz9\"\n",
    "access_secret = \"3aZqyJbHP7KtGOYUJGHl1Qkhg0emCLnLHtrvZxMe3YYgi\""
   ]
  }
 ],
 "metadata": {
  "kernelspec": {
   "display_name": "Python 2",
   "language": "python",
   "name": "python2"
  },
  "language_info": {
   "codemirror_mode": {
    "name": "ipython",
    "version": 2.0
   },
   "file_extension": ".py",
   "mimetype": "text/x-python",
   "name": "python",
   "nbconvert_exporter": "python",
   "pygments_lexer": "ipython2",
   "version": "2.7.6"
  }
 },
 "nbformat": 4,
 "nbformat_minor": 0
}